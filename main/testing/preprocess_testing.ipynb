{
 "cells": [
  {
   "cell_type": "code",
   "execution_count": 1,
   "metadata": {},
   "outputs": [],
   "source": [
    "import nltk #natural language toolkit\n",
    "from nltk.corpus import stopwords\n",
    "from nltk.tokenize import word_tokenize\n",
    "from nltk.stem import PorterStemmer\n",
    "import os\n",
    "import pandas as pd"
   ]
  },
  {
   "cell_type": "code",
   "execution_count": 2,
   "metadata": {},
   "outputs": [
    {
     "name": "stderr",
     "output_type": "stream",
     "text": [
      "[nltk_data] Downloading package stopwords to\n",
      "[nltk_data]     C:\\Users\\awyat049\\AppData\\Roaming\\nltk_data...\n",
      "[nltk_data]   Unzipping corpora\\stopwords.zip.\n"
     ]
    },
    {
     "data": {
      "text/plain": [
       "True"
      ]
     },
     "execution_count": 2,
     "metadata": {},
     "output_type": "execute_result"
    }
   ],
   "source": [
    "nltk.download('stopwords')"
   ]
  },
  {
   "cell_type": "code",
   "execution_count": 37,
   "metadata": {},
   "outputs": [],
   "source": [
    "stop_words =stopwords.words('english')"
   ]
  },
  {
   "cell_type": "code",
   "execution_count": 38,
   "metadata": {},
   "outputs": [
    {
     "data": {
      "text/plain": [
       "['i',\n",
       " 'me',\n",
       " 'my',\n",
       " 'myself',\n",
       " 'we',\n",
       " 'our',\n",
       " 'ours',\n",
       " 'ourselves',\n",
       " 'you',\n",
       " \"you're\",\n",
       " \"you've\",\n",
       " \"you'll\",\n",
       " \"you'd\",\n",
       " 'your',\n",
       " 'yours',\n",
       " 'yourself',\n",
       " 'yourselves',\n",
       " 'he',\n",
       " 'him',\n",
       " 'his',\n",
       " 'himself',\n",
       " 'she',\n",
       " \"she's\",\n",
       " 'her',\n",
       " 'hers',\n",
       " 'herself',\n",
       " 'it',\n",
       " \"it's\",\n",
       " 'its',\n",
       " 'itself',\n",
       " 'they',\n",
       " 'them',\n",
       " 'their',\n",
       " 'theirs',\n",
       " 'themselves',\n",
       " 'what',\n",
       " 'which',\n",
       " 'who',\n",
       " 'whom',\n",
       " 'this',\n",
       " 'that',\n",
       " \"that'll\",\n",
       " 'these',\n",
       " 'those',\n",
       " 'am',\n",
       " 'is',\n",
       " 'are',\n",
       " 'was',\n",
       " 'were',\n",
       " 'be',\n",
       " 'been',\n",
       " 'being',\n",
       " 'have',\n",
       " 'has',\n",
       " 'had',\n",
       " 'having',\n",
       " 'do',\n",
       " 'does',\n",
       " 'did',\n",
       " 'doing',\n",
       " 'a',\n",
       " 'an',\n",
       " 'the',\n",
       " 'and',\n",
       " 'but',\n",
       " 'if',\n",
       " 'or',\n",
       " 'because',\n",
       " 'as',\n",
       " 'until',\n",
       " 'while',\n",
       " 'of',\n",
       " 'at',\n",
       " 'by',\n",
       " 'for',\n",
       " 'with',\n",
       " 'about',\n",
       " 'against',\n",
       " 'between',\n",
       " 'into',\n",
       " 'through',\n",
       " 'during',\n",
       " 'before',\n",
       " 'after',\n",
       " 'above',\n",
       " 'below',\n",
       " 'to',\n",
       " 'from',\n",
       " 'up',\n",
       " 'down',\n",
       " 'in',\n",
       " 'out',\n",
       " 'on',\n",
       " 'off',\n",
       " 'over',\n",
       " 'under',\n",
       " 'again',\n",
       " 'further',\n",
       " 'then',\n",
       " 'once',\n",
       " 'here',\n",
       " 'there',\n",
       " 'when',\n",
       " 'where',\n",
       " 'why',\n",
       " 'how',\n",
       " 'all',\n",
       " 'any',\n",
       " 'both',\n",
       " 'each',\n",
       " 'few',\n",
       " 'more',\n",
       " 'most',\n",
       " 'other',\n",
       " 'some',\n",
       " 'such',\n",
       " 'no',\n",
       " 'nor',\n",
       " 'not',\n",
       " 'only',\n",
       " 'own',\n",
       " 'same',\n",
       " 'so',\n",
       " 'than',\n",
       " 'too',\n",
       " 'very',\n",
       " 's',\n",
       " 't',\n",
       " 'can',\n",
       " 'will',\n",
       " 'just',\n",
       " 'don',\n",
       " \"don't\",\n",
       " 'should',\n",
       " \"should've\",\n",
       " 'now',\n",
       " 'd',\n",
       " 'll',\n",
       " 'm',\n",
       " 'o',\n",
       " 're',\n",
       " 've',\n",
       " 'y',\n",
       " 'ain',\n",
       " 'aren',\n",
       " \"aren't\",\n",
       " 'couldn',\n",
       " \"couldn't\",\n",
       " 'didn',\n",
       " \"didn't\",\n",
       " 'doesn',\n",
       " \"doesn't\",\n",
       " 'hadn',\n",
       " \"hadn't\",\n",
       " 'hasn',\n",
       " \"hasn't\",\n",
       " 'haven',\n",
       " \"haven't\",\n",
       " 'isn',\n",
       " \"isn't\",\n",
       " 'ma',\n",
       " 'mightn',\n",
       " \"mightn't\",\n",
       " 'mustn',\n",
       " \"mustn't\",\n",
       " 'needn',\n",
       " \"needn't\",\n",
       " 'shan',\n",
       " \"shan't\",\n",
       " 'shouldn',\n",
       " \"shouldn't\",\n",
       " 'wasn',\n",
       " \"wasn't\",\n",
       " 'weren',\n",
       " \"weren't\",\n",
       " 'won',\n",
       " \"won't\",\n",
       " 'wouldn',\n",
       " \"wouldn't\"]"
      ]
     },
     "execution_count": 38,
     "metadata": {},
     "output_type": "execute_result"
    }
   ],
   "source": [
    "stop_words"
   ]
  },
  {
   "cell_type": "code",
   "execution_count": 2,
   "metadata": {},
   "outputs": [],
   "source": [
    "relative_dir = os.path.dirname(os.path.dirname(os.getcwd()))\n",
    "dataset_path = relative_dir + \"\\\\data\""
   ]
  },
  {
   "cell_type": "code",
   "execution_count": 5,
   "metadata": {},
   "outputs": [
    {
     "data": {
      "text/plain": [
       "'c:\\\\Users\\\\awyat049\\\\OneDrive\\\\Ottawa U\\\\Year 5\\\\2025 Winter\\\\MAT4107 - Information Retrieval and Internet\\\\Assignments\\\\hub\\\\main\\\\testing'"
      ]
     },
     "execution_count": 5,
     "metadata": {},
     "output_type": "execute_result"
    }
   ],
   "source": [
    "os.getcwd()"
   ]
  },
  {
   "cell_type": "code",
   "execution_count": 34,
   "metadata": {},
   "outputs": [],
   "source": [
    "os.chdir(os.getcwd() + \"\\\\main\\\\testing\")"
   ]
  },
  {
   "cell_type": "code",
   "execution_count": 25,
   "metadata": {},
   "outputs": [],
   "source": [
    "os.chdir(\"../..\")"
   ]
  },
  {
   "cell_type": "code",
   "execution_count": 33,
   "metadata": {},
   "outputs": [],
   "source": [
    "os.chdir(os.pardir)"
   ]
  },
  {
   "cell_type": "code",
   "execution_count": 36,
   "metadata": {},
   "outputs": [
    {
     "data": {
      "text/plain": [
       "'c:\\\\Users\\\\awyat049\\\\OneDrive\\\\Ottawa U\\\\Year 5\\\\2025 Winter\\\\MAT4107 - Information Retrieval and Internet\\\\Assignments\\\\hub\\\\main\\\\testing'"
      ]
     },
     "execution_count": 36,
     "metadata": {},
     "output_type": "execute_result"
    }
   ],
   "source": [
    "os.getcwd()"
   ]
  },
  {
   "cell_type": "code",
   "execution_count": 16,
   "metadata": {},
   "outputs": [
    {
     "name": "stderr",
     "output_type": "stream",
     "text": [
      "C:\\Users\\awyat049\\AppData\\Local\\Temp\\ipykernel_19852\\414381980.py:2: ParserWarning: Falling back to the 'python' engine because the 'c' engine does not support regex separators (separators > 1 char and different from '\\s+' are interpreted as regex); you can avoid this warning by specifying engine='python'.\n",
      "  stop_words_inkpen = pd.read_csv(dataset_path + \"\\\\StopWords.txt\", delimiter = \"\\r\\n\", header = None)\n"
     ]
    }
   ],
   "source": [
    "# read in alternate stopwords file\n",
    "stop_words_inkpen = pd.read_csv(dataset_path + \"\\\\StopWords.txt\", delimiter = \"\\r\\n\", header = None)"
   ]
  },
  {
   "cell_type": "code",
   "execution_count": 23,
   "metadata": {},
   "outputs": [],
   "source": [
    "stop_words_inkpen = list(stop_words_inkpen.iloc[:,0].values)"
   ]
  },
  {
   "cell_type": "code",
   "execution_count": 27,
   "metadata": {},
   "outputs": [],
   "source": [
    "only_inkpen = []\n",
    "only_other = []\n",
    "\n",
    "stop_words_other = list(stop_words)\n",
    "\n",
    "for i in range(len(stop_words_inkpen)):\n",
    "    if stop_words_inkpen[i] not in stop_words_other:\n",
    "        only_inkpen.append(stop_words_inkpen[i])\n",
    "    \n",
    "    if i < len(stop_words_other) and stop_words_other[i] not in stop_words_inkpen:\n",
    "        only_other.append(stop_words_other[i])"
   ]
  },
  {
   "cell_type": "code",
   "execution_count": 31,
   "metadata": {},
   "outputs": [
    {
     "data": {
      "text/plain": [
       "633"
      ]
     },
     "execution_count": 31,
     "metadata": {},
     "output_type": "execute_result"
    }
   ],
   "source": [
    "len(only_inkpen)"
   ]
  },
  {
   "cell_type": "code",
   "execution_count": 30,
   "metadata": {},
   "outputs": [
    {
     "data": {
      "text/plain": [
       "33"
      ]
     },
     "execution_count": 30,
     "metadata": {},
     "output_type": "execute_result"
    }
   ],
   "source": [
    "len(only_other)"
   ]
  },
  {
   "cell_type": "code",
   "execution_count": 32,
   "metadata": {},
   "outputs": [
    {
     "data": {
      "text/plain": [
       "779"
      ]
     },
     "execution_count": 32,
     "metadata": {},
     "output_type": "execute_result"
    }
   ],
   "source": [
    "len(stop_words_inkpen)"
   ]
  },
  {
   "cell_type": "code",
   "execution_count": 33,
   "metadata": {},
   "outputs": [
    {
     "data": {
      "text/plain": [
       "179"
      ]
     },
     "execution_count": 33,
     "metadata": {},
     "output_type": "execute_result"
    }
   ],
   "source": [
    "len(stop_words_other)"
   ]
  },
  {
   "cell_type": "markdown",
   "metadata": {},
   "source": [
    "## Many more stopwords in inkpen file - make 3 versions. One from student project. One from inkpen doc. Combo of two"
   ]
  },
  {
   "cell_type": "code",
   "execution_count": 39,
   "metadata": {},
   "outputs": [],
   "source": [
    "# write NLTK stopwords to file\n",
    "w = open(dataset_path + \"\\\\StopWordsNLTK.txt\", 'w')\n",
    "for i in stop_words:\n",
    "    w.write(i + \"\\n\")\n",
    "\n",
    "w.close()"
   ]
  },
  {
   "cell_type": "markdown",
   "metadata": {},
   "source": [
    "## Fix test.tsv"
   ]
  },
  {
   "cell_type": "code",
   "execution_count": 6,
   "metadata": {},
   "outputs": [],
   "source": [
    "relative_dir = os.path.dirname(os.path.dirname(os.getcwd()))\n",
    "testtsv_dir = relative_dir + \"\\\\eval\\\\trec_eval-9.0.7\\\\test\\\\test.tsv\""
   ]
  },
  {
   "cell_type": "code",
   "execution_count": 7,
   "metadata": {},
   "outputs": [
    {
     "data": {
      "text/plain": [
       "'c:\\\\Users\\\\awyat049\\\\OneDrive\\\\Ottawa U\\\\Year 5\\\\2025 Winter\\\\MAT4107 - Information Retrieval and Internet\\\\Assignments\\\\hub\\\\eval\\\\trec_eval-9.0.7\\\\test\\\\test.tsv'"
      ]
     },
     "execution_count": 7,
     "metadata": {},
     "output_type": "execute_result"
    }
   ],
   "source": [
    "testtsv_dir"
   ]
  },
  {
   "cell_type": "code",
   "execution_count": 10,
   "metadata": {},
   "outputs": [
    {
     "data": {
      "text/plain": [
       "Index(['query-id', 'corpus-id', 'score'], dtype='object')"
      ]
     },
     "execution_count": 10,
     "metadata": {},
     "output_type": "execute_result"
    }
   ],
   "source": [
    "testtsv.columns"
   ]
  },
  {
   "cell_type": "code",
   "execution_count": 9,
   "metadata": {},
   "outputs": [],
   "source": [
    "testtsv = pd.read_csv(testtsv_dir, sep='\\t', header=0)"
   ]
  },
  {
   "cell_type": "code",
   "execution_count": 11,
   "metadata": {},
   "outputs": [],
   "source": [
    "testtsv['0'] = 0\n",
    "testtsv = testtsv[list(('query-id','0','corpus-id', 'score'))]"
   ]
  },
  {
   "cell_type": "code",
   "execution_count": 13,
   "metadata": {},
   "outputs": [],
   "source": [
    "testtsv.to_csv(\"test.test\", sep = ' ', index = None, header = None)"
   ]
  },
  {
   "cell_type": "code",
   "execution_count": 14,
   "metadata": {},
   "outputs": [
    {
     "data": {
      "text/plain": [
       "'c:\\\\Users\\\\awyat049\\\\OneDrive\\\\Ottawa U\\\\Year 5\\\\2025 Winter\\\\MAT4107 - Information Retrieval and Internet\\\\Assignments\\\\hub\\\\main\\\\testing'"
      ]
     },
     "execution_count": 14,
     "metadata": {},
     "output_type": "execute_result"
    }
   ],
   "source": [
    "os.getcwd()"
   ]
  },
  {
   "cell_type": "markdown",
   "metadata": {},
   "source": [
    "## generate commands to test outputs"
   ]
  },
  {
   "cell_type": "code",
   "execution_count": 15,
   "metadata": {},
   "outputs": [],
   "source": [
    "def gen_command_trec(filename):\n",
    "    print(f\"./trec_eval test/test.test test/\" + filename)"
   ]
  },
  {
   "cell_type": "code",
   "execution_count": 17,
   "metadata": {},
   "outputs": [
    {
     "name": "stdout",
     "output_type": "stream",
     "text": [
      "./trec_eval test/test.test test/tfidf_cos_sim_nltk_wrds_porter.test\n"
     ]
    }
   ],
   "source": [
    "gen_command_trec(\"tfidf_cos_sim_nltk_wrds_porter.test\")"
   ]
  },
  {
   "cell_type": "code",
   "execution_count": 18,
   "metadata": {},
   "outputs": [],
   "source": [
    "test_names = [\"tfidf_cos_sim_nltk_wrds_porter.test\", \n",
    "              \"tfidf_raw_score_nltk_wrds_porter.test\",\n",
    "              \"bm25_cos_sim_nltk_wrds_porter.test\",\n",
    "              \"bm25_raw_score_nltk_wrds_porter.test\",\n",
    "              \"tfidf_cos_sim_nltk_wrds_lancaster.test\",\n",
    "              \"tfidf_raw_score_nltk_wrds_lancaster.test\",\n",
    "              \"bm25_cos_sim_nltk_wrds_lancaster.test\",\n",
    "              \"bm25_raw_score_nltk_wrds_lancaster.test\",\n",
    "              \"tfidf_cos_sim_nltk_wrds_snowball.test\",\n",
    "              \"tfidf_raw_score_nltk_wrds_snowball.test\",\n",
    "              \"bm25_cos_sim_nltk_wrds_snowball.test\",\n",
    "              \"bm25_raw_score_nltk_wrds_snowball.test\",\n",
    "              \"tfidf_cos_sim_ink_wrds_porter.test\",\n",
    "              \"tfidf_raw_score_ink_wrds_porter.test\",\n",
    "              \"bm25_cos_sim_ink_wrds_porter.test\",\n",
    "              \"bm25_raw_score_ink_wrds_porter.test\",\n",
    "              \"tfidf_cos_sim_ink_wrds_lancaster.test\",\n",
    "              \"tfidf_raw_score_ink_wrds_lancaster.test\",\n",
    "              \"bm25_cos_sim_ink_wrds_lancaster.test\",\n",
    "              \"bm25_raw_score_ink_wrds_lancaster.test\",\n",
    "              \"tfidf_cos_sim_ink_wrds_snowball.test\",\n",
    "              \"tfidf_raw_score_ink_wrds_snowball.test\",\n",
    "              \"bm25_cos_sim_ink_wrds_snowball.test\",\n",
    "              \"bm25_raw_score_ink_wrds_snowball.test\"]"
   ]
  },
  {
   "cell_type": "code",
   "execution_count": 21,
   "metadata": {},
   "outputs": [
    {
     "name": "stdout",
     "output_type": "stream",
     "text": [
      "./trec_eval test/test.test test/tfidf_cos_sim_nltk_wrds_porter.test\n",
      "\n",
      "\n",
      "./trec_eval test/test.test test/tfidf_raw_score_nltk_wrds_porter.test\n",
      "\n",
      "\n",
      "./trec_eval test/test.test test/bm25_cos_sim_nltk_wrds_porter.test\n",
      "\n",
      "\n",
      "./trec_eval test/test.test test/bm25_raw_score_nltk_wrds_porter.test\n",
      "\n",
      "\n",
      "./trec_eval test/test.test test/tfidf_cos_sim_nltk_wrds_lancaster.test\n",
      "\n",
      "\n",
      "./trec_eval test/test.test test/tfidf_raw_score_nltk_wrds_lancaster.test\n",
      "\n",
      "\n",
      "./trec_eval test/test.test test/bm25_cos_sim_nltk_wrds_lancaster.test\n",
      "\n",
      "\n",
      "./trec_eval test/test.test test/bm25_raw_score_nltk_wrds_lancaster.test\n",
      "\n",
      "\n",
      "./trec_eval test/test.test test/tfidf_cos_sim_nltk_wrds_snowball.test\n",
      "\n",
      "\n",
      "./trec_eval test/test.test test/tfidf_raw_score_nltk_wrds_snowball.test\n",
      "\n",
      "\n",
      "./trec_eval test/test.test test/bm25_cos_sim_nltk_wrds_snowball.test\n",
      "\n",
      "\n",
      "./trec_eval test/test.test test/bm25_raw_score_nltk_wrds_snowball.test\n",
      "\n",
      "\n",
      "./trec_eval test/test.test test/tfidf_cos_sim_ink_wrds_porter.test\n",
      "\n",
      "\n",
      "./trec_eval test/test.test test/tfidf_raw_score_ink_wrds_porter.test\n",
      "\n",
      "\n",
      "./trec_eval test/test.test test/bm25_cos_sim_ink_wrds_porter.test\n",
      "\n",
      "\n",
      "./trec_eval test/test.test test/bm25_raw_score_ink_wrds_porter.test\n",
      "\n",
      "\n",
      "./trec_eval test/test.test test/tfidf_cos_sim_ink_wrds_lancaster.test\n",
      "\n",
      "\n",
      "./trec_eval test/test.test test/tfidf_raw_score_ink_wrds_lancaster.test\n",
      "\n",
      "\n",
      "./trec_eval test/test.test test/bm25_cos_sim_ink_wrds_lancaster.test\n",
      "\n",
      "\n",
      "./trec_eval test/test.test test/bm25_raw_score_ink_wrds_lancaster.test\n",
      "\n",
      "\n",
      "./trec_eval test/test.test test/tfidf_cos_sim_ink_wrds_snowball.test\n",
      "\n",
      "\n",
      "./trec_eval test/test.test test/tfidf_raw_score_ink_wrds_snowball.test\n",
      "\n",
      "\n",
      "./trec_eval test/test.test test/bm25_cos_sim_ink_wrds_snowball.test\n",
      "\n",
      "\n",
      "./trec_eval test/test.test test/bm25_raw_score_ink_wrds_snowball.test\n",
      "\n",
      "\n"
     ]
    }
   ],
   "source": [
    "for name in test_names:\n",
    "    gen_command_trec(name)\n",
    "    print(\"\\n\")"
   ]
  },
  {
   "cell_type": "markdown",
   "metadata": {},
   "source": [
    "## Produce required results file"
   ]
  },
  {
   "cell_type": "code",
   "execution_count": 5,
   "metadata": {},
   "outputs": [],
   "source": [
    "results_dir = relative_dir + \"\\\\data\\\\results\\\\\"\n",
    "test_file = pd.read_csv(results_dir + \"test.test\", delimiter=' ', header = None)\n",
    "results_org = pd.read_csv(results_dir + \"bm25_cos_sim_nltk_wrds_porter.test\", delimiter=' ', header = None)"
   ]
  },
  {
   "cell_type": "code",
   "execution_count": 7,
   "metadata": {},
   "outputs": [
    {
     "data": {
      "text/html": [
       "<div>\n",
       "<style scoped>\n",
       "    .dataframe tbody tr th:only-of-type {\n",
       "        vertical-align: middle;\n",
       "    }\n",
       "\n",
       "    .dataframe tbody tr th {\n",
       "        vertical-align: top;\n",
       "    }\n",
       "\n",
       "    .dataframe thead th {\n",
       "        text-align: right;\n",
       "    }\n",
       "</style>\n",
       "<table border=\"1\" class=\"dataframe\">\n",
       "  <thead>\n",
       "    <tr style=\"text-align: right;\">\n",
       "      <th></th>\n",
       "      <th>0</th>\n",
       "      <th>1</th>\n",
       "      <th>2</th>\n",
       "      <th>3</th>\n",
       "      <th>4</th>\n",
       "      <th>5</th>\n",
       "    </tr>\n",
       "  </thead>\n",
       "  <tbody>\n",
       "    <tr>\n",
       "      <th>0</th>\n",
       "      <td>0</td>\n",
       "      <td>Q0</td>\n",
       "      <td>13231899</td>\n",
       "      <td>1</td>\n",
       "      <td>0.688179</td>\n",
       "      <td>bm25_cos_sim_nltk_wrds_porter</td>\n",
       "    </tr>\n",
       "    <tr>\n",
       "      <th>1</th>\n",
       "      <td>0</td>\n",
       "      <td>Q0</td>\n",
       "      <td>1836154</td>\n",
       "      <td>2</td>\n",
       "      <td>0.578440</td>\n",
       "      <td>bm25_cos_sim_nltk_wrds_porter</td>\n",
       "    </tr>\n",
       "    <tr>\n",
       "      <th>2</th>\n",
       "      <td>0</td>\n",
       "      <td>Q0</td>\n",
       "      <td>10342807</td>\n",
       "      <td>3</td>\n",
       "      <td>0.578440</td>\n",
       "      <td>bm25_cos_sim_nltk_wrds_porter</td>\n",
       "    </tr>\n",
       "    <tr>\n",
       "      <th>3</th>\n",
       "      <td>0</td>\n",
       "      <td>Q0</td>\n",
       "      <td>24660385</td>\n",
       "      <td>4</td>\n",
       "      <td>0.578440</td>\n",
       "      <td>bm25_cos_sim_nltk_wrds_porter</td>\n",
       "    </tr>\n",
       "    <tr>\n",
       "      <th>4</th>\n",
       "      <td>0</td>\n",
       "      <td>Q0</td>\n",
       "      <td>25301182</td>\n",
       "      <td>5</td>\n",
       "      <td>0.578440</td>\n",
       "      <td>bm25_cos_sim_nltk_wrds_porter</td>\n",
       "    </tr>\n",
       "    <tr>\n",
       "      <th>...</th>\n",
       "      <td>...</td>\n",
       "      <td>...</td>\n",
       "      <td>...</td>\n",
       "      <td>...</td>\n",
       "      <td>...</td>\n",
       "      <td>...</td>\n",
       "    </tr>\n",
       "    <tr>\n",
       "      <th>110754</th>\n",
       "      <td>1395</td>\n",
       "      <td>Q0</td>\n",
       "      <td>45015767</td>\n",
       "      <td>96</td>\n",
       "      <td>0.270915</td>\n",
       "      <td>bm25_cos_sim_nltk_wrds_porter</td>\n",
       "    </tr>\n",
       "    <tr>\n",
       "      <th>110755</th>\n",
       "      <td>1395</td>\n",
       "      <td>Q0</td>\n",
       "      <td>708425</td>\n",
       "      <td>97</td>\n",
       "      <td>0.270848</td>\n",
       "      <td>bm25_cos_sim_nltk_wrds_porter</td>\n",
       "    </tr>\n",
       "    <tr>\n",
       "      <th>110756</th>\n",
       "      <td>1395</td>\n",
       "      <td>Q0</td>\n",
       "      <td>58050905</td>\n",
       "      <td>98</td>\n",
       "      <td>0.269994</td>\n",
       "      <td>bm25_cos_sim_nltk_wrds_porter</td>\n",
       "    </tr>\n",
       "    <tr>\n",
       "      <th>110757</th>\n",
       "      <td>1395</td>\n",
       "      <td>Q0</td>\n",
       "      <td>1836154</td>\n",
       "      <td>99</td>\n",
       "      <td>0.269209</td>\n",
       "      <td>bm25_cos_sim_nltk_wrds_porter</td>\n",
       "    </tr>\n",
       "    <tr>\n",
       "      <th>110758</th>\n",
       "      <td>1395</td>\n",
       "      <td>Q0</td>\n",
       "      <td>8839502</td>\n",
       "      <td>100</td>\n",
       "      <td>0.268191</td>\n",
       "      <td>bm25_cos_sim_nltk_wrds_porter</td>\n",
       "    </tr>\n",
       "  </tbody>\n",
       "</table>\n",
       "<p>110759 rows × 6 columns</p>\n",
       "</div>"
      ],
      "text/plain": [
       "           0   1         2    3         4                              5\n",
       "0          0  Q0  13231899    1  0.688179  bm25_cos_sim_nltk_wrds_porter\n",
       "1          0  Q0   1836154    2  0.578440  bm25_cos_sim_nltk_wrds_porter\n",
       "2          0  Q0  10342807    3  0.578440  bm25_cos_sim_nltk_wrds_porter\n",
       "3          0  Q0  24660385    4  0.578440  bm25_cos_sim_nltk_wrds_porter\n",
       "4          0  Q0  25301182    5  0.578440  bm25_cos_sim_nltk_wrds_porter\n",
       "...      ...  ..       ...  ...       ...                            ...\n",
       "110754  1395  Q0  45015767   96  0.270915  bm25_cos_sim_nltk_wrds_porter\n",
       "110755  1395  Q0    708425   97  0.270848  bm25_cos_sim_nltk_wrds_porter\n",
       "110756  1395  Q0  58050905   98  0.269994  bm25_cos_sim_nltk_wrds_porter\n",
       "110757  1395  Q0   1836154   99  0.269209  bm25_cos_sim_nltk_wrds_porter\n",
       "110758  1395  Q0   8839502  100  0.268191  bm25_cos_sim_nltk_wrds_porter\n",
       "\n",
       "[110759 rows x 6 columns]"
      ]
     },
     "execution_count": 7,
     "metadata": {},
     "output_type": "execute_result"
    }
   ],
   "source": [
    "results_org"
   ]
  },
  {
   "cell_type": "code",
   "execution_count": 11,
   "metadata": {},
   "outputs": [],
   "source": [
    "def trim_results_file(test_file, results_original):\n",
    "    test_queries = test_file[0].unique()\n",
    "\n",
    "    return results_original[results_original[0].isin(test_queries)]"
   ]
  },
  {
   "cell_type": "code",
   "execution_count": 16,
   "metadata": {},
   "outputs": [
    {
     "data": {
      "text/plain": [
       "True"
      ]
     },
     "execution_count": 16,
     "metadata": {},
     "output_type": "execute_result"
    }
   ],
   "source": [
    "sum(trim_results_file(test_file, results_org)[0].unique() == test_file[0].unique()) == len(test_file[0].unique())"
   ]
  },
  {
   "cell_type": "code",
   "execution_count": 17,
   "metadata": {},
   "outputs": [],
   "source": [
    "trim_results_file(test_file, results_org).to_csv(results_dir + \"Results.txt\", sep = ' ', header = None, index = None)"
   ]
  },
  {
   "cell_type": "code",
   "execution_count": null,
   "metadata": {},
   "outputs": [],
   "source": []
  }
 ],
 "metadata": {
  "kernelspec": {
   "display_name": "InfoRetrieve",
   "language": "python",
   "name": "python3"
  },
  "language_info": {
   "codemirror_mode": {
    "name": "ipython",
    "version": 3
   },
   "file_extension": ".py",
   "mimetype": "text/x-python",
   "name": "python",
   "nbconvert_exporter": "python",
   "pygments_lexer": "ipython3",
   "version": "3.11.7"
  }
 },
 "nbformat": 4,
 "nbformat_minor": 2
}
